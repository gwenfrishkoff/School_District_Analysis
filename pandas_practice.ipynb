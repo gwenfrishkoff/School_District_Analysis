{
 "cells": [
  {
   "cell_type": "code",
   "execution_count": 1,
   "id": "1a5a40f4",
   "metadata": {},
   "outputs": [],
   "source": [
    "### TO DO: restructure code -- move dependencies (imports) & variable declarations to the top, etc...\n",
    "\n",
    "### TO DO: review diff methods for iterating through list of dict and printing key:value pairs to terminal "
   ]
  },
  {
   "cell_type": "code",
   "execution_count": 2,
   "id": "61f2a145",
   "metadata": {},
   "outputs": [
    {
     "name": "stdout",
     "output_type": "stream",
     "text": [
      "Hernandez High School\n",
      "Figueroa High School\n",
      "Wilson High School\n",
      "Wright High School\n"
     ]
    }
   ],
   "source": [
    "# Create list of high schools\n",
    "high_schools = [\"Hernandez High School\", \"Figueroa High School\",\n",
    "                \"Wilson High School\",\"Wright High School\"]\n",
    "\n",
    "# Iterate through list (print contents) using for-loop\n",
    "for school in high_schools:\n",
    "    print(school)"
   ]
  },
  {
   "cell_type": "code",
   "execution_count": 3,
   "id": "9697195c",
   "metadata": {},
   "outputs": [
    {
     "name": "stdout",
     "output_type": "stream",
     "text": [
      "High_School Griffin\n",
      "Type District\n",
      "High_School Figueroa\n",
      "Type District\n",
      "High_School Wilson\n",
      "Type Charter\n",
      "High_School Wright\n",
      "Type Charter\n"
     ]
    }
   ],
   "source": [
    "# Create list of dictionaries (High_School:Type pairs)\n",
    "high_school_types = [{\"High_School\": \"Griffin\", \"Type\":\"District\"},\n",
    "                    {\"High_School\": \"Figueroa\", \"Type\": \"District\"},\n",
    "                    {\"High_School\": \"Wilson\", \"Type\": \"Charter\"},\n",
    "                    {\"High_School\": \"Wright\", \"Type\": \"Charter\"}] \n",
    "\n",
    "# Iterate through list of dict (print each dict, i.e., key:value pair) using for-loop.\n",
    "for dic in high_school_types:\n",
    "    for High_School,Type in dic.items(): \n",
    "        print(f'{High_School}'+ f' {Type}')"
   ]
  },
  {
   "cell_type": "code",
   "execution_count": 4,
   "id": "8efd0a56",
   "metadata": {},
   "outputs": [
    {
     "name": "stdout",
     "output_type": "stream",
     "text": [
      "Huang High School\n",
      "Figueroa High School\n",
      "Shelton High School\n",
      "Hernandez High School\n",
      "Griffin High School\n",
      "Wilson High School\n",
      "Cabrera High School\n",
      "Bailey High School\n",
      "Holden High School\n",
      "Pena High School\n",
      "Wright High School\n",
      "Rodriguez High School\n",
      "Johnson High School\n",
      "Ford High School\n",
      "Thomas High School\n"
     ]
    }
   ],
   "source": [
    "# Create expanded list of high schools\n",
    "high_schools = [\"Huang High School\",  \"Figueroa High School\", \"Shelton High School\", \n",
    "                \"Hernandez High School\",\"Griffin High School\",\"Wilson High School\", \n",
    "                \"Cabrera High School\", \"Bailey High School\", \"Holden High School\", \n",
    "                \"Pena High School\", \"Wright High School\",\"Rodriguez High School\", \n",
    "                \"Johnson High School\", \"Ford High School\", \"Thomas High School\"]\n",
    "\n",
    "# Iterate through list using for-loop.\n",
    "for school in high_schools:\n",
    "    print(school)"
   ]
  },
  {
   "cell_type": "code",
   "execution_count": 5,
   "id": "bbad4f98",
   "metadata": {},
   "outputs": [],
   "source": [
    "# Add Pandas dependency (import the Pandas library as the alias 'pd')\n",
    "import pandas as pd"
   ]
  },
  {
   "cell_type": "code",
   "execution_count": 6,
   "id": "c5ee47c7",
   "metadata": {},
   "outputs": [
    {
     "data": {
      "text/plain": [
       "0         Huang High School\n",
       "1      Figueroa High School\n",
       "2       Shelton High School\n",
       "3     Hernandez High School\n",
       "4       Griffin High School\n",
       "5        Wilson High School\n",
       "6       Cabrera High School\n",
       "7        Bailey High School\n",
       "8        Holden High School\n",
       "9          Pena High School\n",
       "10       Wright High School\n",
       "11    Rodriguez High School\n",
       "12      Johnson High School\n",
       "13         Ford High School\n",
       "14       Thomas High School\n",
       "dtype: object"
      ]
     },
     "execution_count": 6,
     "metadata": {},
     "output_type": "execute_result"
    }
   ],
   "source": [
    "# Convert list to series\n",
    "school_series = pd.Series(high_schools)\n",
    "school_series"
   ]
  },
  {
   "cell_type": "code",
   "execution_count": 7,
   "id": "73c8abcb",
   "metadata": {},
   "outputs": [
    {
     "name": "stdout",
     "output_type": "stream",
     "text": [
      "Huang High School\n",
      "Figueroa High School\n",
      "Shelton High School\n",
      "Hernandez High School\n",
      "Griffin High School\n",
      "Wilson High School\n",
      "Cabrera High School\n",
      "Bailey High School\n",
      "Holden High School\n",
      "Pena High School\n",
      "Wright High School\n",
      "Rodriguez High School\n",
      "Johnson High School\n",
      "Ford High School\n",
      "Thomas High School\n"
     ]
    }
   ],
   "source": [
    "# Iterate through series  \n",
    "for high_schools in school_series:\n",
    "    print(high_schools) "
   ]
  },
  {
   "cell_type": "code",
   "execution_count": 8,
   "id": "55b941b4",
   "metadata": {},
   "outputs": [],
   "source": [
    "# Create dictionary of high schools\n",
    "high_school_dicts = [{\"School ID\": 0, \"school_name\": \"Huang High    School\", \"type\": \"District\"},\n",
    "                   {\"School ID\": 1, \"school_name\": \"Figueroa High School\", \"type\": \"District\"},\n",
    "                    {\"School ID\": 2, \"school_name\":\"Shelton High School\", \"type\": \"Charter\"},\n",
    "                    {\"School ID\": 3, \"school_name\":\"Hernandez High School\", \"type\": \"District\"},\n",
    "                    {\"School ID\": 4, \"school_name\":\"Griffin High School\", \"type\": \"Charter\"}]"
   ]
  },
  {
   "cell_type": "code",
   "execution_count": 9,
   "id": "0aca48e1",
   "metadata": {},
   "outputs": [
    {
     "data": {
      "text/html": [
       "<div>\n",
       "<style scoped>\n",
       "    .dataframe tbody tr th:only-of-type {\n",
       "        vertical-align: middle;\n",
       "    }\n",
       "\n",
       "    .dataframe tbody tr th {\n",
       "        vertical-align: top;\n",
       "    }\n",
       "\n",
       "    .dataframe thead th {\n",
       "        text-align: right;\n",
       "    }\n",
       "</style>\n",
       "<table border=\"1\" class=\"dataframe\">\n",
       "  <thead>\n",
       "    <tr style=\"text-align: right;\">\n",
       "      <th></th>\n",
       "      <th>School ID</th>\n",
       "      <th>school_name</th>\n",
       "      <th>type</th>\n",
       "    </tr>\n",
       "  </thead>\n",
       "  <tbody>\n",
       "    <tr>\n",
       "      <th>0</th>\n",
       "      <td>0</td>\n",
       "      <td>Huang High    School</td>\n",
       "      <td>District</td>\n",
       "    </tr>\n",
       "    <tr>\n",
       "      <th>1</th>\n",
       "      <td>1</td>\n",
       "      <td>Figueroa High School</td>\n",
       "      <td>District</td>\n",
       "    </tr>\n",
       "    <tr>\n",
       "      <th>2</th>\n",
       "      <td>2</td>\n",
       "      <td>Shelton High School</td>\n",
       "      <td>Charter</td>\n",
       "    </tr>\n",
       "    <tr>\n",
       "      <th>3</th>\n",
       "      <td>3</td>\n",
       "      <td>Hernandez High School</td>\n",
       "      <td>District</td>\n",
       "    </tr>\n",
       "    <tr>\n",
       "      <th>4</th>\n",
       "      <td>4</td>\n",
       "      <td>Griffin High School</td>\n",
       "      <td>Charter</td>\n",
       "    </tr>\n",
       "  </tbody>\n",
       "</table>\n",
       "</div>"
      ],
      "text/plain": [
       "   School ID            school_name      type\n",
       "0          0   Huang High    School  District\n",
       "1          1   Figueroa High School  District\n",
       "2          2    Shelton High School   Charter\n",
       "3          3  Hernandez High School  District\n",
       "4          4    Griffin High School   Charter"
      ]
     },
     "execution_count": 9,
     "metadata": {},
     "output_type": "execute_result"
    }
   ],
   "source": [
    "# Convert dict of high schools to pandas DataFrame (school_df)\n",
    "school_df = pd.DataFrame(high_school_dicts)\n",
    "school_df"
   ]
  },
  {
   "cell_type": "code",
   "execution_count": 10,
   "id": "b9d18646",
   "metadata": {},
   "outputs": [],
   "source": [
    "# Create 3 separate lists of information on high schools\n",
    "school_id = [0, 1, 2, 3, 4]\n",
    "school_name = [\"Huang High School\", \"Figueroa High School\",\n",
    "\"Shelton High School\", \"Hernandez High School\",\"Griffin High School\"]\n",
    "type_of_school = [\"District\", \"District\", \"Charter\", \"District\",\"Charter\"]"
   ]
  },
  {
   "cell_type": "code",
   "execution_count": 11,
   "id": "7a655444",
   "metadata": {},
   "outputs": [],
   "source": [
    "# Add Pandas dependency (import Pandas as alias 'pd')\n",
    "import pandas as pd\n",
    "\n",
    "# Initialize (create an empty) DataFrame\n",
    "schools_df = pd.DataFrame()\n",
    "\n",
    "# Add  school ID list to empty DataFrame\n",
    "schools_df[\"School_ID\"] = school_id\n",
    "\n",
    "# Add  school Name list to DataFrame\n",
    "schools_df[\"School_Name\"] = school_name\n",
    "\n",
    "# Add  school Type list to DataFrame\n",
    "schools_df[\"School_Type\"] = type_of_school"
   ]
  },
  {
   "cell_type": "code",
   "execution_count": 12,
   "id": "f334979d",
   "metadata": {},
   "outputs": [
    {
     "name": "stdout",
     "output_type": "stream",
     "text": [
      "   School_ID            School_Name School_Type\n",
      "0          0      Huang High School    District\n",
      "1          1   Figueroa High School    District\n",
      "2          2    Shelton High School     Charter\n",
      "3          3  Hernandez High School    District\n",
      "4          4    Griffin High School     Charter\n"
     ]
    }
   ],
   "source": [
    "# Print DataFrame\n",
    "print(schools_df)"
   ]
  },
  {
   "cell_type": "code",
   "execution_count": 13,
   "id": "654c2b0f",
   "metadata": {},
   "outputs": [
    {
     "name": "stdout",
     "output_type": "stream",
     "text": [
      "Index(['School ID', 'school_name', 'type'], dtype='object')\n"
     ]
    }
   ],
   "source": [
    "# Print the DataFrame column names using .columns method\n",
    "print(school_df.columns)"
   ]
  },
  {
   "cell_type": "code",
   "execution_count": 14,
   "id": "67eb0409",
   "metadata": {},
   "outputs": [
    {
     "name": "stdout",
     "output_type": "stream",
     "text": [
      "RangeIndex(start=0, stop=5, step=1)\n"
     ]
    }
   ],
   "source": [
    "# Print the DataFrame column indexes using .index method\n",
    "print(school_df.index)"
   ]
  },
  {
   "cell_type": "code",
   "execution_count": 15,
   "id": "09357348",
   "metadata": {},
   "outputs": [
    {
     "name": "stdout",
     "output_type": "stream",
     "text": [
      "[[0 'Huang High    School' 'District']\n",
      " [1 'Figueroa High School' 'District']\n",
      " [2 'Shelton High School' 'Charter']\n",
      " [3 'Hernandez High School' 'District']\n",
      " [4 'Griffin High School' 'Charter']]\n"
     ]
    }
   ],
   "source": [
    "# Print the DataFrame column values using .values method\n",
    "print(school_df.values)"
   ]
  },
  {
   "cell_type": "code",
   "execution_count": 16,
   "id": "77a4a1ae",
   "metadata": {},
   "outputs": [
    {
     "data": {
      "text/html": [
       "<div>\n",
       "<style scoped>\n",
       "    .dataframe tbody tr th:only-of-type {\n",
       "        vertical-align: middle;\n",
       "    }\n",
       "\n",
       "    .dataframe tbody tr th {\n",
       "        vertical-align: top;\n",
       "    }\n",
       "\n",
       "    .dataframe thead th {\n",
       "        text-align: right;\n",
       "    }\n",
       "</style>\n",
       "<table border=\"1\" class=\"dataframe\">\n",
       "  <thead>\n",
       "    <tr style=\"text-align: right;\">\n",
       "      <th></th>\n",
       "      <th>School ID</th>\n",
       "      <th>school_name</th>\n",
       "      <th>type</th>\n",
       "    </tr>\n",
       "  </thead>\n",
       "  <tbody>\n",
       "    <tr>\n",
       "      <th>0</th>\n",
       "      <td>0</td>\n",
       "      <td>Huang High School</td>\n",
       "      <td>District</td>\n",
       "    </tr>\n",
       "    <tr>\n",
       "      <th>1</th>\n",
       "      <td>1</td>\n",
       "      <td>Figueroa High School</td>\n",
       "      <td>District</td>\n",
       "    </tr>\n",
       "    <tr>\n",
       "      <th>2</th>\n",
       "      <td>2</td>\n",
       "      <td>Shelton High School</td>\n",
       "      <td>Charter</td>\n",
       "    </tr>\n",
       "    <tr>\n",
       "      <th>3</th>\n",
       "      <td>3</td>\n",
       "      <td>Hernandez High School</td>\n",
       "      <td>District</td>\n",
       "    </tr>\n",
       "    <tr>\n",
       "      <th>4</th>\n",
       "      <td>4</td>\n",
       "      <td>Griffin High School</td>\n",
       "      <td>Charter</td>\n",
       "    </tr>\n",
       "  </tbody>\n",
       "</table>\n",
       "</div>"
      ],
      "text/plain": [
       "   School ID            school_name      type\n",
       "0          0      Huang High School  District\n",
       "1          1   Figueroa High School  District\n",
       "2          2    Shelton High School   Charter\n",
       "3          3  Hernandez High School  District\n",
       "4          4    Griffin High School   Charter"
      ]
     },
     "execution_count": 16,
     "metadata": {},
     "output_type": "execute_result"
    }
   ],
   "source": [
    "# Create a dictionary of information on high schools.\n",
    "high_schools_dict = {'School ID': school_id, 'school_name':school_name, 'type':type_of_school}\n",
    "\n",
    "# Convert the dictionary high_schools_dict to a DataFrame.  \n",
    "high_schools_dict = pd.DataFrame(high_schools_dict)\n",
    "high_schools_dict"
   ]
  },
  {
   "cell_type": "code",
   "execution_count": 17,
   "id": "b2aa44be",
   "metadata": {},
   "outputs": [],
   "source": [
    "# Create separate lists of information on high schools\n",
    "school_id = [0, 1, 2, 3, 4]\n",
    "\n",
    "school_name = [\"Huang High School\", \"Figueroa High School\",\n",
    "\"Shelton High School\", \"Hernandez High School\",\"Griffin High School\"]\n",
    "\n",
    "type_of_school = [\"District\", \"District\", \"Charter\", \"District\",\"Charter\"]"
   ]
  },
  {
   "cell_type": "code",
   "execution_count": 19,
   "id": "04ad9427",
   "metadata": {},
   "outputs": [
    {
     "data": {
      "text/html": [
       "<div>\n",
       "<style scoped>\n",
       "    .dataframe tbody tr th:only-of-type {\n",
       "        vertical-align: middle;\n",
       "    }\n",
       "\n",
       "    .dataframe tbody tr th {\n",
       "        vertical-align: top;\n",
       "    }\n",
       "\n",
       "    .dataframe thead th {\n",
       "        text-align: right;\n",
       "    }\n",
       "</style>\n",
       "<table border=\"1\" class=\"dataframe\">\n",
       "  <thead>\n",
       "    <tr style=\"text-align: right;\">\n",
       "      <th></th>\n",
       "      <th>School ID</th>\n",
       "      <th>School Name</th>\n",
       "      <th>School Type</th>\n",
       "    </tr>\n",
       "  </thead>\n",
       "  <tbody>\n",
       "    <tr>\n",
       "      <th>0</th>\n",
       "      <td>0</td>\n",
       "      <td>Huang High School</td>\n",
       "      <td>District</td>\n",
       "    </tr>\n",
       "    <tr>\n",
       "      <th>1</th>\n",
       "      <td>1</td>\n",
       "      <td>Figueroa High School</td>\n",
       "      <td>District</td>\n",
       "    </tr>\n",
       "    <tr>\n",
       "      <th>2</th>\n",
       "      <td>2</td>\n",
       "      <td>Shelton High School</td>\n",
       "      <td>Charter</td>\n",
       "    </tr>\n",
       "    <tr>\n",
       "      <th>3</th>\n",
       "      <td>3</td>\n",
       "      <td>Hernandez High School</td>\n",
       "      <td>District</td>\n",
       "    </tr>\n",
       "    <tr>\n",
       "      <th>4</th>\n",
       "      <td>4</td>\n",
       "      <td>Griffin High School</td>\n",
       "      <td>Charter</td>\n",
       "    </tr>\n",
       "  </tbody>\n",
       "</table>\n",
       "</div>"
      ],
      "text/plain": [
       "   School ID            School Name School Type\n",
       "0          0      Huang High School    District\n",
       "1          1   Figueroa High School    District\n",
       "2          2    Shelton High School     Charter\n",
       "3          3  Hernandez High School    District\n",
       "4          4    Griffin High School     Charter"
      ]
     },
     "execution_count": 19,
     "metadata": {},
     "output_type": "execute_result"
    }
   ],
   "source": [
    "### Convert List(s) or Series to a DataFrame (df)\n",
    "\n",
    "# Initialize empty DataFrame\n",
    "schools_df = pd.DataFrame()\n",
    "\n",
    "# Add lists to DataFrame\n",
    "schools_df[\"School ID\"] = school_id\n",
    "schools_df[\"School Name\"] = school_name\n",
    "schools_df[\"School Type\"] = type_of_school\n",
    "\n",
    "# Print DataFrame\n",
    "schools_df"
   ]
  },
  {
   "cell_type": "code",
   "execution_count": 20,
   "id": "afda3bf5",
   "metadata": {},
   "outputs": [],
   "source": [
    "# Create dictionary of information on high schools.\n",
    "high_schools_dict = {'School ID': school_id, 'school_name':school_name, 'type':type_of_school}"
   ]
  },
  {
   "cell_type": "code",
   "execution_count": 24,
   "id": "7d0cc66e",
   "metadata": {},
   "outputs": [
    {
     "data": {
      "text/html": [
       "<div>\n",
       "<style scoped>\n",
       "    .dataframe tbody tr th:only-of-type {\n",
       "        vertical-align: middle;\n",
       "    }\n",
       "\n",
       "    .dataframe tbody tr th {\n",
       "        vertical-align: top;\n",
       "    }\n",
       "\n",
       "    .dataframe thead th {\n",
       "        text-align: right;\n",
       "    }\n",
       "</style>\n",
       "<table border=\"1\" class=\"dataframe\">\n",
       "  <thead>\n",
       "    <tr style=\"text-align: right;\">\n",
       "      <th></th>\n",
       "      <th>School ID</th>\n",
       "      <th>School Name</th>\n",
       "      <th>School Type</th>\n",
       "    </tr>\n",
       "  </thead>\n",
       "  <tbody>\n",
       "    <tr>\n",
       "      <th>0</th>\n",
       "      <td>0</td>\n",
       "      <td>Huang High School</td>\n",
       "      <td>District</td>\n",
       "    </tr>\n",
       "    <tr>\n",
       "      <th>1</th>\n",
       "      <td>1</td>\n",
       "      <td>Figueroa High School</td>\n",
       "      <td>District</td>\n",
       "    </tr>\n",
       "    <tr>\n",
       "      <th>2</th>\n",
       "      <td>2</td>\n",
       "      <td>Shelton High School</td>\n",
       "      <td>Charter</td>\n",
       "    </tr>\n",
       "    <tr>\n",
       "      <th>3</th>\n",
       "      <td>3</td>\n",
       "      <td>Hernandez High School</td>\n",
       "      <td>District</td>\n",
       "    </tr>\n",
       "    <tr>\n",
       "      <th>4</th>\n",
       "      <td>4</td>\n",
       "      <td>Griffin High School</td>\n",
       "      <td>Charter</td>\n",
       "    </tr>\n",
       "  </tbody>\n",
       "</table>\n",
       "</div>"
      ],
      "text/plain": [
       "   School ID            School Name School Type\n",
       "0          0      Huang High School    District\n",
       "1          1   Figueroa High School    District\n",
       "2          2    Shelton High School     Charter\n",
       "3          3  Hernandez High School    District\n",
       "4          4    Griffin High School     Charter"
      ]
     },
     "execution_count": 24,
     "metadata": {},
     "output_type": "execute_result"
    }
   ],
   "source": [
    "### Convert Dict to a DataFrame (df)\n",
    "\n",
    "# Initialize empty DataFrame\n",
    "high_schools_df = pd.DataFrame()\n",
    "\n",
    "# Add items in dict to DataFrame\n",
    "high_schools_df[\"School ID\"] = school_id\n",
    "high_schools_df[\"School Name\"] = school_name\n",
    "high_schools_df[\"School Type\"] = type_of_school\n",
    "\n",
    "# Print DataFrame\n",
    "high_schools_df"
   ]
  },
  {
   "cell_type": "code",
   "execution_count": 27,
   "id": "17628e0b",
   "metadata": {},
   "outputs": [
    {
     "data": {
      "text/plain": [
       "Index(['School ID', 'school_name', 'type'], dtype='object')"
      ]
     },
     "execution_count": 27,
     "metadata": {},
     "output_type": "execute_result"
    }
   ],
   "source": [
    "# Print list of column names (Keys)\n",
    "school_df.columns"
   ]
  },
  {
   "cell_type": "code",
   "execution_count": 28,
   "id": "e512464e",
   "metadata": {},
   "outputs": [
    {
     "data": {
      "text/plain": [
       "RangeIndex(start=0, stop=5, step=1)"
      ]
     },
     "execution_count": 28,
     "metadata": {},
     "output_type": "execute_result"
    }
   ],
   "source": [
    "# Print RangeIndex (use to generate list of Indices)\n",
    "school_df.index"
   ]
  },
  {
   "cell_type": "code",
   "execution_count": 29,
   "id": "a2433485",
   "metadata": {},
   "outputs": [
    {
     "data": {
      "text/plain": [
       "array([[0, 'Huang High    School', 'District'],\n",
       "       [1, 'Figueroa High School', 'District'],\n",
       "       [2, 'Shelton High School', 'Charter'],\n",
       "       [3, 'Hernandez High School', 'District'],\n",
       "       [4, 'Griffin High School', 'Charter']], dtype=object)"
      ]
     },
     "execution_count": 29,
     "metadata": {},
     "output_type": "execute_result"
    }
   ],
   "source": [
    "# Print array of Values (without column names)\n",
    "school_df.values"
   ]
  },
  {
   "cell_type": "code",
   "execution_count": null,
   "id": "7fdcb6cb",
   "metadata": {},
   "outputs": [],
   "source": []
  }
 ],
 "metadata": {
  "kernelspec": {
   "display_name": "PythonData",
   "language": "python",
   "name": "pythondata"
  },
  "language_info": {
   "codemirror_mode": {
    "name": "ipython",
    "version": 3
   },
   "file_extension": ".py",
   "mimetype": "text/x-python",
   "name": "python",
   "nbconvert_exporter": "python",
   "pygments_lexer": "ipython3",
   "version": "3.7.13"
  }
 },
 "nbformat": 4,
 "nbformat_minor": 5
}
